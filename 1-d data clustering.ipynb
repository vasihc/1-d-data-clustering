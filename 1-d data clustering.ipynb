{
 "cells": [
  {
   "cell_type": "code",
   "execution_count": 70,
   "metadata": {
    "collapsed": true
   },
   "outputs": [],
   "source": [
    "#import librares\n",
    "%matplotlib inline\n",
    "\n",
    "from numpy import array, linspace\n",
    "from sklearn.neighbors.kde import KernelDensity\n",
    "from scipy.stats import norm\n",
    "from sklearn.neighbors import KernelDensity\n",
    "from scipy.signal import argrelextrema\n",
    "import numpy as np\n",
    "import pandas as pd\n",
    "import matplotlib.pyplot as plt\n",
    "import plotly.plotly as py\n",
    "import plotly.tools as pytl\n",
    "import math"
   ]
  },
  {
   "cell_type": "code",
   "execution_count": 207,
   "metadata": {},
   "outputs": [],
   "source": [
    "def get_counts_in_cluster(data_list, starts, ends):\n",
    "    counts = []\n",
    "    for i in range(len(starts)):\n",
    "        count = np.count_nonzero((data_list > starts[i]) & (data_list < ends[i]))\n",
    "        counts.append(count)\n",
    "    return counts"
   ]
  },
  {
   "cell_type": "code",
   "execution_count": 205,
   "metadata": {},
   "outputs": [],
   "source": [
    "def cluster_KDE(data_list, a, b):\n",
    "    \n",
    "    kde = KernelDensity(kernel='gaussian', bandwidth=5).fit(data_list)\n",
    "    #a = math.trunc(data_list[0]) - 1\n",
    "    #b = math.trunc(data_list[-1]) + 1\n",
    "    s = linspace(a,b)\n",
    "    e = kde.score_samples(s.reshape(-1,1))\n",
    "    print(\"Score: \", kde.score)\n",
    "    \n",
    "    mi, ma = argrelextrema(e, np.less)[0], argrelextrema(e, np.greater)[0]\n",
    "    print(\"Minima:\", s[mi])\n",
    "    print(\"Maxima:\", s[ma])\n",
    "    #clusters = data_list[data_list < mi[0]], data_list[(data_list >= mi[0]) * (data_list <= mi[1])], data_list[data_list >= mi[1]]\n",
    "    #print(\"clusters: \", clusters)\n",
    "    plt.figure(1)\n",
    "    plt.subplot(211)\n",
    "    plt.plot(s[:mi[0]+1], e[:mi[0]+1], 'r',\n",
    "         s[mi[0]:mi[1]+1], e[mi[0]:mi[1]+1], 'g',\n",
    "         s[mi[1]:], e[mi[1]:], 'b',\n",
    "         s[ma], e[ma], 'go',\n",
    "         s[mi], e[mi], 'ro')\n",
    "    \n",
    "    centers = s[ma]\n",
    "    starts=np.insert(s[mi],0, data_list[0])\n",
    "    ends=np.insert(s[mi], centers.size-1, data_list[-1])\n",
    "    counts= get_counts_in_cluster(data_list, starts, ends)\n",
    "   \n",
    "    data= {'start':starts, 'end':ends, 'count':counts, 'center':centers}\n",
    "    data_frame = pd.DataFrame(data=data) \n",
    "    \n",
    "    plt.subplot(212)     \n",
    "    plt.scatter(centers, counts, s=s, c=\"green\", alpha=0.4, linewidth=6)\n",
    "    plt.xlabel('value')\n",
    "    plt.ylabel('count in cluster')\n",
    "    plt.show()\n",
    "    \n",
    "    return data_frame"
   ]
  },
  {
   "cell_type": "code",
   "execution_count": 141,
   "metadata": {
    "collapsed": true
   },
   "outputs": [],
   "source": [
    "def df_to_csv(data_frame, fileName):\n",
    "    data_frame.to_csv(path_or_buf=fileName)"
   ]
  },
  {
   "cell_type": "code",
   "execution_count": 160,
   "metadata": {
    "collapsed": true
   },
   "outputs": [],
   "source": [
    "def plot_histogram(data_list):\n",
    "    np.random.seed(1)\n",
    "    N = data_list.shape[0]\n",
    "    X = data_list\n",
    "    X_plot = np.linspace(70, 400, 1000)[:, np.newaxis]\n",
    "    bins = np.linspace(80, 120, 10)\n",
    "\n",
    "    fig, ax = plt.subplots(2, 2, sharex=True, sharey=True)\n",
    "    fig.subplots_adjust(hspace=0.05, wspace=0.05)\n",
    "\n",
    "    # histogram 1\n",
    "    ax[0, 0].hist(X[:, 0], bins=bins, fc='#AAAAFF', normed=True)\n",
    "    ax[0, 0].text(-1, 0.1, \"Histogram\")\n",
    "\n",
    "    # histogram 2\n",
    "    ax[0, 1].hist(X[:, 0], bins=bins + 0.75, fc='#AAAAFF', normed=True)\n",
    "    ax[0, 1].text(-1, 0.1, \"Histogram, bins shifted\")\n",
    "\n",
    "    # tophat KDE\n",
    "    kde = KernelDensity(kernel='tophat', bandwidth=0.75).fit(X)\n",
    "    log_dens = kde.score_samples(X_plot)\n",
    "    ax[1, 0].fill(X_plot[:, 0], np.exp(log_dens), fc='#AAAAFF')\n",
    "    ax[1, 0].text(-1, 0.1, \"Tophat Kernel Density\")\n",
    "\n",
    "    # Gaussian KDE\n",
    "    kde = KernelDensity(kernel='gaussian', bandwidth=0.75).fit(X)\n",
    "    log_dens = kde.score_samples(X_plot)\n",
    "    ax[1, 1].fill(X_plot[:, 0], np.exp(log_dens), fc='#AAAAFF')\n",
    "    ax[1, 1].text(-1, 0.1, \"Gaussian Kernel Density\")\n",
    "\n",
    "    for axi in ax.ravel():\n",
    "        axi.plot(X[:, 0], np.zeros(X.shape[0]) - 0.01, '+k')\n",
    "        axi.set_xlim(70, 200)\n",
    "        axi.set_ylim(0, 0.1)\n",
    "\n",
    "    for axi in ax[:, 0]:\n",
    "        axi.set_ylabel('Normalized Density')\n",
    "\n",
    "    for axi in ax[1, :]:\n",
    "        axi.set_xlabel('x')\n"
   ]
  },
  {
   "cell_type": "code",
   "execution_count": 143,
   "metadata": {
    "collapsed": true
   },
   "outputs": [],
   "source": [
    "def plot_median(data_list):\n",
    "    med = np.median(data_list)\n",
    "    plt.plot(sorted(data_list), c='b');\n",
    "    plt.axhline(y=med, label='median tip = %s' % med, c='black');\n",
    "    plt.legend(fontsize=18);"
   ]
  },
  {
   "cell_type": "code",
   "execution_count": 163,
   "metadata": {
    "collapsed": true
   },
   "outputs": [],
   "source": [
    "def get_jenks_breaks(data_list, number_class):\n",
    "    mat1 = []\n",
    "    for i in range(len(data_list) + 1):\n",
    "        temp = []\n",
    "        for j in range(number_class + 1):\n",
    "            temp.append(0)\n",
    "        mat1.append(temp)\n",
    "    mat2 = []\n",
    "    for i in range(len(data_list) + 1):\n",
    "        temp = []\n",
    "        for j in range(number_class + 1):\n",
    "            temp.append(0)\n",
    "        mat2.append(temp)\n",
    "    for i in range(1, number_class + 1):\n",
    "        mat1[1][i] = 1\n",
    "        mat2[1][i] = 0\n",
    "        for j in range(2, len(data_list) + 1):\n",
    "            mat2[j][i] = float('inf')\n",
    "    v = 0.0\n",
    "    for l in range(2, len(data_list) + 1):\n",
    "        s1 = 0.0\n",
    "        s2 = 0.0\n",
    "        w = 0.0\n",
    "        for m in range(1, l + 1):\n",
    "            i3 = l - m + 1\n",
    "            val = float(data_list[i3 - 1])\n",
    "            s2 += val * val\n",
    "            s1 += val\n",
    "            w += 1\n",
    "            v = s2 - (s1 * s1) / w\n",
    "            i4 = i3 - 1\n",
    "            if i4 != 0:\n",
    "                for j in range(2, number_class + 1):\n",
    "                    if mat2[l][j] >= (v + mat2[i4][j - 1]):\n",
    "                        mat1[l][j] = i3\n",
    "                        mat2[l][j] = v + mat2[i4][j - 1]\n",
    "        mat1[l][1] = 1\n",
    "        mat2[l][1] = v\n",
    "    k = len(data_list)\n",
    "    kclass = []\n",
    "    for i in range(number_class + 1):\n",
    "        kclass.append(min(data_list))\n",
    "    kclass[number_class] = float(data_list[len(data_list) - 1])\n",
    "    count_num = number_class\n",
    "    while count_num >= 2:  # print \"rank = \" + str(mat1[k][count_num])\n",
    "        idx = int((mat1[k][count_num]) - 2)\n",
    "        # print \"val = \" + str(data_list[idx])\n",
    "        kclass[count_num - 1] = data_list[idx]\n",
    "        k = int((mat1[k][count_num] - 1))\n",
    "        count_num -= 1\n",
    "    return kclass"
   ]
  },
  {
   "cell_type": "code",
   "execution_count": 208,
   "metadata": {},
   "outputs": [],
   "source": [
    "def plot_breaks(data_list, number_class):\n",
    "    breaks = get_jenks_breaks(data_list, number_class)\n",
    "\n",
    "    for line in breaks:\n",
    "        plt.plot([line for _ in range(len(data_list))], 'k--')\n",
    "    \n",
    "    starts=[]\n",
    "    for x in breaks[:-1]:\n",
    "        starts.append(x[0])\n",
    "        \n",
    "    ends = []\n",
    "    for x in breaks[1:-1]:\n",
    "        ends.append(x[0])\n",
    "    ends.append(breaks[-1])\n",
    "    print(starts)\n",
    "    print(ends)\n",
    "    centers=[]\n",
    "    for i in range(number_class):\n",
    "        center = (ends[i] - starts[i])/2\n",
    "        centers.append(center)\n",
    "        \n",
    "    counts = get_counts_in_cluster(data_list, starts, ends)\n",
    "    \n",
    "    data= {'start':starts, 'end':ends, 'count':counts, 'center':centers}\n",
    "    data_frame = pd.DataFrame(data=data)\n",
    "    \n",
    "    plt.plot(data_list)\n",
    "    plt.grid(True)\n",
    "    plt.show()\n",
    "    \n",
    "    return data_frame"
   ]
  },
  {
   "cell_type": "code",
   "execution_count": 165,
   "metadata": {
    "collapsed": true
   },
   "outputs": [],
   "source": [
    "def plot_histogram_plotly(data_list):\n",
    "    pytl.set_credentials_file(username='vasihc', api_key='JQwhkmHKi2TUvbGswotq')\n",
    "    plt.hist(data_list)\n",
    "    plt.title(\"Gaussian Histogram\")\n",
    "    plt.xlabel(\"Value\")\n",
    "    plt.ylabel(\"Frequency\")\n",
    "\n",
    "    fig = plt.gcf()\n",
    "\n",
    "    py.plot_mpl(fig,  filename='123')\n"
   ]
  },
  {
   "cell_type": "code",
   "execution_count": null,
   "metadata": {
    "collapsed": true
   },
   "outputs": [],
   "source": []
  },
  {
   "cell_type": "code",
   "execution_count": 148,
   "metadata": {},
   "outputs": [
    {
     "name": "stderr",
     "output_type": "stream",
     "text": [
      "b'Skipping line 1401: expected 8 fields, saw 9\\nSkipping line 1402: expected 8 fields, saw 9\\nSkipping line 1403: expected 8 fields, saw 9\\nSkipping line 1404: expected 8 fields, saw 9\\nSkipping line 1405: expected 8 fields, saw 9\\nSkipping line 1406: expected 8 fields, saw 9\\nSkipping line 1407: expected 8 fields, saw 9\\nSkipping line 7148: expected 8 fields, saw 9\\n'\n"
     ]
    },
    {
     "data": {
      "text/html": [
       "<div>\n",
       "<style>\n",
       "    .dataframe thead tr:only-child th {\n",
       "        text-align: right;\n",
       "    }\n",
       "\n",
       "    .dataframe thead th {\n",
       "        text-align: left;\n",
       "    }\n",
       "\n",
       "    .dataframe tbody tr th {\n",
       "        vertical-align: top;\n",
       "    }\n",
       "</style>\n",
       "<table border=\"1\" class=\"dataframe\">\n",
       "  <thead>\n",
       "    <tr style=\"text-align: right;\">\n",
       "      <th></th>\n",
       "      <th>Resident Info ManagerCommunity Id</th>\n",
       "      <th>Menu Manager Community Id</th>\n",
       "      <th>Resident Id</th>\n",
       "      <th>Measure Date</th>\n",
       "      <th>Weight</th>\n",
       "      <th>Height</th>\n",
       "      <th>Age (in days)</th>\n",
       "      <th>First Name</th>\n",
       "    </tr>\n",
       "  </thead>\n",
       "  <tbody>\n",
       "    <tr>\n",
       "      <th>1410</th>\n",
       "      <td>137</td>\n",
       "      <td>1034</td>\n",
       "      <td>48448</td>\n",
       "      <td>9/4/2017 12:00:00 AM</td>\n",
       "      <td>121.6</td>\n",
       "      <td>66.0</td>\n",
       "      <td>27989.0</td>\n",
       "      <td>Richard</td>\n",
       "    </tr>\n",
       "    <tr>\n",
       "      <th>1411</th>\n",
       "      <td>137</td>\n",
       "      <td>1034</td>\n",
       "      <td>48448</td>\n",
       "      <td>10/3/2017 12:00:00 AM</td>\n",
       "      <td>124.8</td>\n",
       "      <td>66.0</td>\n",
       "      <td>28018.0</td>\n",
       "      <td>Richard</td>\n",
       "    </tr>\n",
       "    <tr>\n",
       "      <th>1412</th>\n",
       "      <td>137</td>\n",
       "      <td>1034</td>\n",
       "      <td>48448</td>\n",
       "      <td>11/1/2017 12:00:00 AM</td>\n",
       "      <td>126.6</td>\n",
       "      <td>66.0</td>\n",
       "      <td>28047.0</td>\n",
       "      <td>Richard</td>\n",
       "    </tr>\n",
       "    <tr>\n",
       "      <th>1413</th>\n",
       "      <td>137</td>\n",
       "      <td>1034</td>\n",
       "      <td>48448</td>\n",
       "      <td>12/4/2017 12:00:00 AM</td>\n",
       "      <td>130.0</td>\n",
       "      <td>66.0</td>\n",
       "      <td>28080.0</td>\n",
       "      <td>Richard</td>\n",
       "    </tr>\n",
       "    <tr>\n",
       "      <th>1414</th>\n",
       "      <td>137</td>\n",
       "      <td>1034</td>\n",
       "      <td>48448</td>\n",
       "      <td>2/5/2018 12:00:00 AM</td>\n",
       "      <td>128.8</td>\n",
       "      <td>66.0</td>\n",
       "      <td>28143.0</td>\n",
       "      <td>Richard</td>\n",
       "    </tr>\n",
       "  </tbody>\n",
       "</table>\n",
       "</div>"
      ],
      "text/plain": [
       "      Resident Info ManagerCommunity Id  Menu Manager Community Id  \\\n",
       "1410                                137                       1034   \n",
       "1411                                137                       1034   \n",
       "1412                                137                       1034   \n",
       "1413                                137                       1034   \n",
       "1414                                137                       1034   \n",
       "\n",
       "      Resident Id           Measure Date  Weight  Height  Age (in days)  \\\n",
       "1410        48448   9/4/2017 12:00:00 AM   121.6    66.0        27989.0   \n",
       "1411        48448  10/3/2017 12:00:00 AM   124.8    66.0        28018.0   \n",
       "1412        48448  11/1/2017 12:00:00 AM   126.6    66.0        28047.0   \n",
       "1413        48448  12/4/2017 12:00:00 AM   130.0    66.0        28080.0   \n",
       "1414        48448   2/5/2018 12:00:00 AM   128.8    66.0        28143.0   \n",
       "\n",
       "     First Name  \n",
       "1410    Richard  \n",
       "1411    Richard  \n",
       "1412    Richard  \n",
       "1413    Richard  \n",
       "1414    Richard  "
      ]
     },
     "execution_count": 148,
     "metadata": {},
     "output_type": "execute_result"
    }
   ],
   "source": [
    "#read weights data\n",
    "df = pd.read_csv('weightHistories.csv', error_bad_lines=False)\n",
    "df = df.dropna()\n",
    "df = df.loc[(df['Height']!=0) & (df['Age (in days)'] > 1000) & (df['Weight']>70)]\n",
    "\n",
    "y = sorted(df['Weight'].values)\n",
    "weights = np.array(y).reshape(-1, 1)\n",
    "\n",
    "df.head()"
   ]
  },
  {
   "cell_type": "code",
   "execution_count": 204,
   "metadata": {},
   "outputs": [
    {
     "name": "stdout",
     "output_type": "stream",
     "text": [
      "Score:  <bound method KernelDensity.score of KernelDensity(algorithm='auto', atol=0, bandwidth=5, breadth_first=True,\n",
      "       kernel='gaussian', leaf_size=40, metric='euclidean',\n",
      "       metric_params=None, rtol=0)>\n",
      "Minima: [ 201.63265306  289.3877551   342.04081633  438.57142857]\n",
      "Maxima: [ 140.20408163  210.40816327  298.16326531  359.59183673  473.67346939]\n",
      "[  71.          201.63265306  289.3877551   342.04081633  438.57142857]\n"
     ]
    },
    {
     "data": {
      "image/png": "[encoded data removed]",
      "text/plain": [
       "<matplotlib.figure.Figure at 0x27ef8c76be0>"
      ]
     },
     "metadata": {},
     "output_type": "display_data"
    },
    {
     "data": {
      "text/html": [
       "<div>\n",
       "<style>\n",
       "    .dataframe thead tr:only-child th {\n",
       "        text-align: right;\n",
       "    }\n",
       "\n",
       "    .dataframe thead th {\n",
       "        text-align: left;\n",
       "    }\n",
       "\n",
       "    .dataframe tbody tr th {\n",
       "        vertical-align: top;\n",
       "    }\n",
       "</style>\n",
       "<table border=\"1\" class=\"dataframe\">\n",
       "  <thead>\n",
       "    <tr style=\"text-align: right;\">\n",
       "      <th></th>\n",
       "      <th>center</th>\n",
       "      <th>count</th>\n",
       "      <th>end</th>\n",
       "      <th>start</th>\n",
       "    </tr>\n",
       "  </thead>\n",
       "  <tbody>\n",
       "    <tr>\n",
       "      <th>0</th>\n",
       "      <td>140.204082</td>\n",
       "      <td>5721</td>\n",
       "      <td>2.016327e+02</td>\n",
       "      <td>71.000000</td>\n",
       "    </tr>\n",
       "    <tr>\n",
       "      <th>1</th>\n",
       "      <td>210.408163</td>\n",
       "      <td>1378</td>\n",
       "      <td>2.893878e+02</td>\n",
       "      <td>201.632653</td>\n",
       "    </tr>\n",
       "    <tr>\n",
       "      <th>2</th>\n",
       "      <td>298.163265</td>\n",
       "      <td>146</td>\n",
       "      <td>3.420408e+02</td>\n",
       "      <td>289.387755</td>\n",
       "    </tr>\n",
       "    <tr>\n",
       "      <th>3</th>\n",
       "      <td>359.591837</td>\n",
       "      <td>69</td>\n",
       "      <td>4.385714e+02</td>\n",
       "      <td>342.040816</td>\n",
       "    </tr>\n",
       "    <tr>\n",
       "      <th>4</th>\n",
       "      <td>473.673469</td>\n",
       "      <td>15</td>\n",
       "      <td>1.901119e+10</td>\n",
       "      <td>438.571429</td>\n",
       "    </tr>\n",
       "  </tbody>\n",
       "</table>\n",
       "</div>"
      ],
      "text/plain": [
       "       center  count           end       start\n",
       "0  140.204082   5721  2.016327e+02   71.000000\n",
       "1  210.408163   1378  2.893878e+02  201.632653\n",
       "2  298.163265    146  3.420408e+02  289.387755\n",
       "3  359.591837     69  4.385714e+02  342.040816\n",
       "4  473.673469     15  1.901119e+10  438.571429"
      ]
     },
     "execution_count": 204,
     "metadata": {},
     "output_type": "execute_result"
    }
   ],
   "source": [
    "weights_data_frame = cluster_KDE(weights,70,500)\n",
    "weights_data_frame.head()"
   ]
  },
  {
   "cell_type": "code",
   "execution_count": 150,
   "metadata": {},
   "outputs": [],
   "source": [
    "df_to_csv(weights_data_frame, \"WeightClustering.csv\")"
   ]
  },
  {
   "cell_type": "code",
   "execution_count": 161,
   "metadata": {},
   "outputs": [
    {
     "data": {
      "image/png": "[encoded data removed]",
      "text/plain": [
       "<matplotlib.figure.Figure at 0x27ef6ddf668>"
      ]
     },
     "metadata": {},
     "output_type": "display_data"
    }
   ],
   "source": [
    "plot_histogram(weights)"
   ]
  },
  {
   "cell_type": "code",
   "execution_count": 152,
   "metadata": {},
   "outputs": [
    {
     "data": {
      "image/png": "[encoded data removed]",
      "text/plain": [
       "<matplotlib.figure.Figure at 0x27ef861f2e8>"
      ]
     },
     "metadata": {},
     "output_type": "display_data"
    }
   ],
   "source": [
    "plot_median(weights)"
   ]
  },
  {
   "cell_type": "code",
   "execution_count": 166,
   "metadata": {},
   "outputs": [
    {
     "data": {
      "image/png": "[encoded data removed]",
      "text/plain": [
       "<matplotlib.figure.Figure at 0x27ef4aaef60>"
      ]
     },
     "metadata": {},
     "output_type": "display_data"
    }
   ],
   "source": [
    "plot_breaks(weights, 5)"
   ]
  },
  {
   "cell_type": "code",
   "execution_count": 172,
   "metadata": {},
   "outputs": [
    {
     "data": {
      "text/html": [
       "<div>\n",
       "<style>\n",
       "    .dataframe thead tr:only-child th {\n",
       "        text-align: right;\n",
       "    }\n",
       "\n",
       "    .dataframe thead th {\n",
       "        text-align: left;\n",
       "    }\n",
       "\n",
       "    .dataframe tbody tr th {\n",
       "        vertical-align: top;\n",
       "    }\n",
       "</style>\n",
       "<table border=\"1\" class=\"dataframe\">\n",
       "  <thead>\n",
       "    <tr style=\"text-align: right;\">\n",
       "      <th></th>\n",
       "      <th>Height</th>\n",
       "    </tr>\n",
       "  </thead>\n",
       "  <tbody>\n",
       "    <tr>\n",
       "      <th>9</th>\n",
       "      <td>66.0</td>\n",
       "    </tr>\n",
       "    <tr>\n",
       "      <th>10</th>\n",
       "      <td>71.0</td>\n",
       "    </tr>\n",
       "    <tr>\n",
       "      <th>11</th>\n",
       "      <td>62.0</td>\n",
       "    </tr>\n",
       "    <tr>\n",
       "      <th>12</th>\n",
       "      <td>70.0</td>\n",
       "    </tr>\n",
       "    <tr>\n",
       "      <th>13</th>\n",
       "      <td>65.0</td>\n",
       "    </tr>\n",
       "  </tbody>\n",
       "</table>\n",
       "</div>"
      ],
      "text/plain": [
       "    Height\n",
       "9     66.0\n",
       "10    71.0\n",
       "11    62.0\n",
       "12    70.0\n",
       "13    65.0"
      ]
     },
     "execution_count": 172,
     "metadata": {},
     "output_type": "execute_result"
    }
   ],
   "source": [
    "#height\n",
    "heights_df = pd.read_csv('Heights.csv', error_bad_lines=False)\n",
    "heights_df = heights_df.loc[(heights_df['Height']>=40)&(heights_df['Height']<=100)]\n",
    "y = sorted(heights_df['Height'].values)\n",
    "heights = np.array(y).reshape(-1, 1)\n",
    "heights_df.head()"
   ]
  },
  {
   "cell_type": "code",
   "execution_count": 178,
   "metadata": {},
   "outputs": [
    {
     "data": {
      "image/png": "[encoded data removed]",
      "text/plain": [
       "<matplotlib.figure.Figure at 0x27ef865b7f0>"
      ]
     },
     "metadata": {},
     "output_type": "display_data"
    }
   ],
   "source": [
    "plot_median(heights)"
   ]
  },
  {
   "cell_type": "code",
   "execution_count": 209,
   "metadata": {},
   "outputs": [
    {
     "name": "stdout",
     "output_type": "stream",
     "text": [
      "[40.5, 62.5, 68.0]\n",
      "[62.5, 68.0, 79.0]\n"
     ]
    },
    {
     "data": {
      "image/png": "[encoded data removed]",
      "text/plain": [
       "<matplotlib.figure.Figure at 0x27ef8921e10>"
      ]
     },
     "metadata": {},
     "output_type": "display_data"
    },
    {
     "data": {
      "text/html": [
       "<div>\n",
       "<style>\n",
       "    .dataframe thead tr:only-child th {\n",
       "        text-align: right;\n",
       "    }\n",
       "\n",
       "    .dataframe thead th {\n",
       "        text-align: left;\n",
       "    }\n",
       "\n",
       "    .dataframe tbody tr th {\n",
       "        vertical-align: top;\n",
       "    }\n",
       "</style>\n",
       "<table border=\"1\" class=\"dataframe\">\n",
       "  <thead>\n",
       "    <tr style=\"text-align: right;\">\n",
       "      <th></th>\n",
       "      <th>center</th>\n",
       "      <th>count</th>\n",
       "      <th>end</th>\n",
       "      <th>start</th>\n",
       "    </tr>\n",
       "  </thead>\n",
       "  <tbody>\n",
       "    <tr>\n",
       "      <th>0</th>\n",
       "      <td>11.00</td>\n",
       "      <td>381</td>\n",
       "      <td>62.5</td>\n",
       "      <td>40.5</td>\n",
       "    </tr>\n",
       "    <tr>\n",
       "      <th>1</th>\n",
       "      <td>2.75</td>\n",
       "      <td>689</td>\n",
       "      <td>68.0</td>\n",
       "      <td>62.5</td>\n",
       "    </tr>\n",
       "    <tr>\n",
       "      <th>2</th>\n",
       "      <td>5.50</td>\n",
       "      <td>448</td>\n",
       "      <td>79.0</td>\n",
       "      <td>68.0</td>\n",
       "    </tr>\n",
       "  </tbody>\n",
       "</table>\n",
       "</div>"
      ],
      "text/plain": [
       "   center  count   end  start\n",
       "0   11.00    381  62.5   40.5\n",
       "1    2.75    689  68.0   62.5\n",
       "2    5.50    448  79.0   68.0"
      ]
     },
     "execution_count": 209,
     "metadata": {},
     "output_type": "execute_result"
    }
   ],
   "source": [
    "heights_data_frame = plot_breaks(heights,3)\n",
    "heights_data_frame.head()"
   ]
  },
  {
   "cell_type": "code",
   "execution_count": 210,
   "metadata": {
    "collapsed": true
   },
   "outputs": [],
   "source": [
    "df_to_csv(heights_data_frame, \"HeightClusters.csv\")"
   ]
  },
  {
   "cell_type": "code",
   "execution_count": null,
   "metadata": {
    "collapsed": true
   },
   "outputs": [],
   "source": [
    "#plot_histogram(heights)"
   ]
  },
  {
   "cell_type": "code",
   "execution_count": 180,
   "metadata": {},
   "outputs": [
    {
     "data": {
      "text/html": [
       "<div>\n",
       "<style>\n",
       "    .dataframe thead tr:only-child th {\n",
       "        text-align: right;\n",
       "    }\n",
       "\n",
       "    .dataframe thead th {\n",
       "        text-align: left;\n",
       "    }\n",
       "\n",
       "    .dataframe tbody tr th {\n",
       "        vertical-align: top;\n",
       "    }\n",
       "</style>\n",
       "<table border=\"1\" class=\"dataframe\">\n",
       "  <thead>\n",
       "    <tr style=\"text-align: right;\">\n",
       "      <th></th>\n",
       "      <th>Age</th>\n",
       "    </tr>\n",
       "  </thead>\n",
       "  <tbody>\n",
       "    <tr>\n",
       "      <th>0</th>\n",
       "      <td>95</td>\n",
       "    </tr>\n",
       "    <tr>\n",
       "      <th>1</th>\n",
       "      <td>78</td>\n",
       "    </tr>\n",
       "    <tr>\n",
       "      <th>2</th>\n",
       "      <td>76</td>\n",
       "    </tr>\n",
       "    <tr>\n",
       "      <th>3</th>\n",
       "      <td>90</td>\n",
       "    </tr>\n",
       "    <tr>\n",
       "      <th>4</th>\n",
       "      <td>71</td>\n",
       "    </tr>\n",
       "  </tbody>\n",
       "</table>\n",
       "</div>"
      ],
      "text/plain": [
       "   Age\n",
       "0   95\n",
       "1   78\n",
       "2   76\n",
       "3   90\n",
       "4   71"
      ]
     },
     "execution_count": 180,
     "metadata": {},
     "output_type": "execute_result"
    }
   ],
   "source": [
    "#age\n",
    "ages_df = pd.read_csv('Ages.csv', error_bad_lines=False)\n",
    "ages_df= ages_df.loc[(ages_df['Age']>=40) & (ages_df['Age']<=110)]\n",
    "y = sorted(ages_df['Age'].values)\n",
    "ages = np.array(y).reshape(-1, 1)\n",
    "ages_df.head()"
   ]
  },
  {
   "cell_type": "code",
   "execution_count": 181,
   "metadata": {},
   "outputs": [
    {
     "data": {
      "image/png": "[encoded data removed]",
      "text/plain": [
       "<matplotlib.figure.Figure at 0x27ef8b81ef0>"
      ]
     },
     "metadata": {},
     "output_type": "display_data"
    }
   ],
   "source": [
    "plot_median(ages)"
   ]
  },
  {
   "cell_type": "code",
   "execution_count": 211,
   "metadata": {},
   "outputs": [
    {
     "name": "stdout",
     "output_type": "stream",
     "text": [
      "[41, 67, 83]\n",
      "[67, 83, 108.0]\n"
     ]
    },
    {
     "data": {
      "image/png": "[encoded data removed]",
      "text/plain": [
       "<matplotlib.figure.Figure at 0x27ef7607c88>"
      ]
     },
     "metadata": {},
     "output_type": "display_data"
    },
    {
     "data": {
      "text/html": [
       "<div>\n",
       "<style>\n",
       "    .dataframe thead tr:only-child th {\n",
       "        text-align: right;\n",
       "    }\n",
       "\n",
       "    .dataframe thead th {\n",
       "        text-align: left;\n",
       "    }\n",
       "\n",
       "    .dataframe tbody tr th {\n",
       "        vertical-align: top;\n",
       "    }\n",
       "</style>\n",
       "<table border=\"1\" class=\"dataframe\">\n",
       "  <thead>\n",
       "    <tr style=\"text-align: right;\">\n",
       "      <th></th>\n",
       "      <th>center</th>\n",
       "      <th>count</th>\n",
       "      <th>end</th>\n",
       "      <th>start</th>\n",
       "    </tr>\n",
       "  </thead>\n",
       "  <tbody>\n",
       "    <tr>\n",
       "      <th>0</th>\n",
       "      <td>13.0</td>\n",
       "      <td>533</td>\n",
       "      <td>67.0</td>\n",
       "      <td>41</td>\n",
       "    </tr>\n",
       "    <tr>\n",
       "      <th>1</th>\n",
       "      <td>8.0</td>\n",
       "      <td>1031</td>\n",
       "      <td>83.0</td>\n",
       "      <td>67</td>\n",
       "    </tr>\n",
       "    <tr>\n",
       "      <th>2</th>\n",
       "      <td>12.5</td>\n",
       "      <td>884</td>\n",
       "      <td>108.0</td>\n",
       "      <td>83</td>\n",
       "    </tr>\n",
       "  </tbody>\n",
       "</table>\n",
       "</div>"
      ],
      "text/plain": [
       "   center  count    end  start\n",
       "0    13.0    533   67.0     41\n",
       "1     8.0   1031   83.0     67\n",
       "2    12.5    884  108.0     83"
      ]
     },
     "execution_count": 211,
     "metadata": {},
     "output_type": "execute_result"
    }
   ],
   "source": [
    "ages_data_frame = plot_breaks(ages,3)\n",
    "ages_data_frame.head()"
   ]
  },
  {
   "cell_type": "code",
   "execution_count": 212,
   "metadata": {
    "collapsed": true
   },
   "outputs": [],
   "source": [
    "df_to_csv(ages_data_frame, \"AgeClusters.csv\")"
   ]
  },
  {
   "cell_type": "code",
   "execution_count": 185,
   "metadata": {},
   "outputs": [
    {
     "data": {
      "image/png": "[encoded data removed]",
      "text/plain": [
       "<matplotlib.figure.Figure at 0x27ef8663438>"
      ]
     },
     "metadata": {},
     "output_type": "display_data"
    }
   ],
   "source": [
    "plot_histogram(ages)"
   ]
  }
 ],
 "metadata": {
  "kernelspec": {
   "display_name": "Python 3",
   "language": "python",
   "name": "python3"
  },
  "language_info": {
   "codemirror_mode": {
    "name": "ipython",
    "version": 3
   },
   "file_extension": ".py",
   "mimetype": "text/x-python",
   "name": "python",
   "nbconvert_exporter": "python",
   "pygments_lexer": "ipython3",
   "version": "3.6.2"
  }
 },
 "nbformat": 4,
 "nbformat_minor": 2
}
